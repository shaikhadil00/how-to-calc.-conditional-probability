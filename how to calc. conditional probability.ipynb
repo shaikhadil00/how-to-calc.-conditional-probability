{
 "cells": [
  {
   "cell_type": "markdown",
   "id": "49285bb2",
   "metadata": {},
   "source": [
    "To calculate conditional probability using a breast cancer dataset ,you can follow these steps:\n",
    "\n",
    "1. Import the necessary libraries, such as pandas, numpy, and scikit-learn.\n",
    "\n",
    "2. Load the breast cancer dataset .\n",
    "\n",
    "3. Split the dataset into features (X) and the target variable (y).\n",
    "\n",
    "4. Split the data into training and testing sets using train_test_split from scikit-learn.\n",
    "\n",
    "5. Calculate the conditional probability using the training set.\n",
    "\n",
    "6. Print or display the result."
   ]
  },
  {
   "cell_type": "code",
   "execution_count": 2,
   "id": "bb55082f",
   "metadata": {},
   "outputs": [
    {
     "name": "stderr",
     "output_type": "stream",
     "text": [
      "C:\\Users\\ADIL SHAIKH\\Anaconda3\\lib\\site-packages\\pandas\\core\\computation\\expressions.py:21: UserWarning: Pandas requires version '2.8.4' or newer of 'numexpr' (version '2.8.3' currently installed).\n",
      "  from pandas.core.computation.check import NUMEXPR_INSTALLED\n",
      "C:\\Users\\ADIL SHAIKH\\Anaconda3\\lib\\site-packages\\pandas\\core\\arrays\\masked.py:60: UserWarning: Pandas requires version '1.3.6' or newer of 'bottleneck' (version '1.3.5' currently installed).\n",
      "  from pandas.core import (\n"
     ]
    }
   ],
   "source": [
    "import pandas as pd\n",
    "from sklearn.model_selection import train_test_split\n",
    "from sklearn.datasets import load_breast_cancer"
   ]
  },
  {
   "cell_type": "code",
   "execution_count": 7,
   "id": "f5a58d3a",
   "metadata": {},
   "outputs": [],
   "source": [
    "# Load the breast cancer dataset\n",
    "data = load_breast_cancer()"
   ]
  },
  {
   "cell_type": "code",
   "execution_count": 8,
   "id": "12d03087",
   "metadata": {},
   "outputs": [],
   "source": [
    "# Split the dataset into features (X) and the target variable (y)\n",
    "X = data.data\n",
    "y = data.target"
   ]
  },
  {
   "cell_type": "code",
   "execution_count": 9,
   "id": "900082c0",
   "metadata": {},
   "outputs": [],
   "source": [
    "# Split the data into training and testing sets\n",
    "X_train, X_test, y_train, y_test = train_test_split(X, y, test_size=0.2, random_state=42)"
   ]
  },
  {
   "cell_type": "code",
   "execution_count": 14,
   "id": "9904f6c0",
   "metadata": {},
   "outputs": [],
   "source": [
    "# Calculate the conditional probability\n",
    "P_A_given_B = len(X_train[(X_train[:,0]>20) & (y_train == 1)]) / len(X_train[y_train == 1])"
   ]
  },
  {
   "cell_type": "code",
   "execution_count": 15,
   "id": "5d9b7f29",
   "metadata": {},
   "outputs": [
    {
     "name": "stdout",
     "output_type": "stream",
     "text": [
      "The conditional probability of feature A given diagnosis B is: 0.0\n"
     ]
    }
   ],
   "source": [
    "# Print the result\n",
    "print(\"The conditional probability of feature A given diagnosis B is:\", P_A_given_B)"
   ]
  },
  {
   "cell_type": "markdown",
   "id": "850f407f",
   "metadata": {},
   "source": [
    "# what does 0.0 actually means"
   ]
  },
  {
   "cell_type": "markdown",
   "id": "43ee5170",
   "metadata": {},
   "source": [
    "# the output of 0.0 means that there are no instances in the training set"
   ]
  },
  {
   "cell_type": "markdown",
   "id": "db995260",
   "metadata": {},
   "source": [
    "# for the given diagnosis.where the specific feature value is greater than 20 "
   ]
  },
  {
   "cell_type": "markdown",
   "id": "ef94e93f",
   "metadata": {},
   "source": [
    "# IT is good answer"
   ]
  },
  {
   "cell_type": "markdown",
   "id": "cfaa3002",
   "metadata": {},
   "source": [
    "Yes, it's a good answer! The output of 0.0 indicates that there are no cases in the training set \n",
    "where the specific feature value is greater than 20 for the given diagnosis"
   ]
  }
 ],
 "metadata": {
  "kernelspec": {
   "display_name": "Python 3 (ipykernel)",
   "language": "python",
   "name": "python3"
  },
  "language_info": {
   "codemirror_mode": {
    "name": "ipython",
    "version": 3
   },
   "file_extension": ".py",
   "mimetype": "text/x-python",
   "name": "python",
   "nbconvert_exporter": "python",
   "pygments_lexer": "ipython3",
   "version": "3.9.13"
  }
 },
 "nbformat": 4,
 "nbformat_minor": 5
}
